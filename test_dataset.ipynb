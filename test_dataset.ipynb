{
 "cells": [
  {
   "cell_type": "code",
   "execution_count": 23,
   "metadata": {
    "collapsed": true
   },
   "outputs": [],
   "source": [
    "import pandas as pd\n",
    "import numpy as np\n",
    "import json\n",
    "import ast"
   ]
  },
  {
   "cell_type": "code",
   "execution_count": 56,
   "metadata": {
    "collapsed": false,
    "pycharm": {
     "name": "#%%\n"
    }
   },
   "outputs": [],
   "source": [
    "df = pd.read_csv('data/dataset500.csv')"
   ]
  },
  {
   "cell_type": "code",
   "execution_count": 32,
   "metadata": {},
   "outputs": [
    {
     "data": {
      "text/plain": [
       "'{\"date\":[\"2021-05-06T00:00:00.000Z\"],\"grade\":[20],\"comment\":[\"J\\'étais vraiment hypé par ce jeu , et j\\'en suis très content , c\\'est un espèce de JDR sur plateau à jouer entre amis (ou matchmaking aléatoire/solo/trouver des amis sur le discord officiel) et c\\'est super fun. Chaque joueur choisit un perso parmi les 4 classes (j\\'ai pas testé le mode solo mais en solo c\\'est différent on peut avoir plusieurs personnages à la fois ) et on avance dans le donjon comme dans un JDR sur table classique.On a 2 points d\\'action par tour , des cartes que l\\'on gagne ou achète au fur et à mesure de la partie et pas mal de tresors et interactions sur les différentes \\\\\"map\\\\\" jusqu\\'à arriver au boss. La difficulté est assez corsée mais c\\'est dû à l\\'aspect roguelike du jeu , entre chaque parties on gagne des points d\\'expérience pour gagner des skins.Le jeu vient de sortir sur quest (en crossbuy mais la version rift doit arriver dans la semaine , si vous achetez le jeu sur quest vous aurez la version rift quand il sortira) et steam.Il y a déjà du contenu de prévu ( https://twitter.com/DemeoGame/status/1389956706491322368/photo/1 ) , un discord officiel ( https://store.steampowered.com/news/app/1484280/view/4706800454257642536 ) ainsi qu\\'une vidéo de présentation si vous voulez vous faire une idée du jeu https://www.youtube.com/watch?v=hqh3X9MCXPoC\\'est fait par resolutions game et le jeu est déjà dispo en Français. Ce jeu est assez exceptionnel pour en parler , c\\'est assez rare d\\'avoir des jeux de rôle d\\'une telle qualité et surtout en vr. Une version PC flat est en développement aussi en parallèle.\"],\"username\":[\"]peceiste[\"]}'"
      ]
     },
     "execution_count": 32,
     "metadata": {},
     "output_type": "execute_result"
    }
   ],
   "source": [
    "df.loc[54].comments"
   ]
  },
  {
   "cell_type": "code",
   "execution_count": 33,
   "metadata": {
    "collapsed": false,
    "pycharm": {
     "name": "#%%\n"
    }
   },
   "outputs": [],
   "source": [
    "df.loc[:, \"comments\"] = df.apply(lambda x: ast.literal_eval(x['comments']), axis=1)"
   ]
  },
  {
   "cell_type": "code",
   "execution_count": 34,
   "metadata": {},
   "outputs": [
    {
     "data": {
      "text/plain": [
       "{'date': ['2021-05-06T00:00:00.000Z'],\n",
       " 'grade': [20],\n",
       " 'comment': ['J\\'étais vraiment hypé par ce jeu , et j\\'en suis très content , c\\'est un espèce de JDR sur plateau à jouer entre amis (ou matchmaking aléatoire/solo/trouver des amis sur le discord officiel) et c\\'est super fun. Chaque joueur choisit un perso parmi les 4 classes (j\\'ai pas testé le mode solo mais en solo c\\'est différent on peut avoir plusieurs personnages à la fois ) et on avance dans le donjon comme dans un JDR sur table classique.On a 2 points d\\'action par tour , des cartes que l\\'on gagne ou achète au fur et à mesure de la partie et pas mal de tresors et interactions sur les différentes \"map\" jusqu\\'à arriver au boss. La difficulté est assez corsée mais c\\'est dû à l\\'aspect roguelike du jeu , entre chaque parties on gagne des points d\\'expérience pour gagner des skins.Le jeu vient de sortir sur quest (en crossbuy mais la version rift doit arriver dans la semaine , si vous achetez le jeu sur quest vous aurez la version rift quand il sortira) et steam.Il y a déjà du contenu de prévu ( https://twitter.com/DemeoGame/status/1389956706491322368/photo/1 ) , un discord officiel ( https://store.steampowered.com/news/app/1484280/view/4706800454257642536 ) ainsi qu\\'une vidéo de présentation si vous voulez vous faire une idée du jeu https://www.youtube.com/watch?v=hqh3X9MCXPoC\\'est fait par resolutions game et le jeu est déjà dispo en Français. Ce jeu est assez exceptionnel pour en parler , c\\'est assez rare d\\'avoir des jeux de rôle d\\'une telle qualité et surtout en vr. Une version PC flat est en développement aussi en parallèle.'],\n",
       " 'username': [']peceiste[']}"
      ]
     },
     "execution_count": 34,
     "metadata": {},
     "output_type": "execute_result"
    }
   ],
   "source": [
    "df.loc[54].comments"
   ]
  },
  {
   "cell_type": "code",
   "execution_count": 42,
   "metadata": {
    "collapsed": false,
    "pycharm": {
     "name": "#%%\n"
    }
   },
   "outputs": [],
   "source": [
    "df.loc[:,'comments'] = df.apply(lambda x: (x['comments'],) if isinstance(x['comments'],dict) else x['comments'],axis=1)"
   ]
  },
  {
   "cell_type": "code",
   "execution_count": 43,
   "metadata": {},
   "outputs": [
    {
     "data": {
      "text/plain": [
       "_id                                             trvIr4ABldsEF0oppIQ0\n",
       "name                                                           Demeo\n",
       "platform                                                          PC\n",
       "editorial_grade                                                   -1\n",
       "genres                                                   Dungeon RPG\n",
       "release_date                              Apr 7, 2022 @ 02:00:00.000\n",
       "synopsis           Demeo est un dungeon-crawler et un RPG uniquem...\n",
       "users_grade                                                     20.0\n",
       "comments           ({'date': ['2021-05-06T00:00:00.000Z'], 'grade...\n",
       "Name: 54, dtype: object"
      ]
     },
     "execution_count": 43,
     "metadata": {},
     "output_type": "execute_result"
    }
   ],
   "source": [
    "df.loc[54]"
   ]
  },
  {
   "cell_type": "code",
   "execution_count": 44,
   "metadata": {
    "collapsed": false,
    "pycharm": {
     "name": "#%%\n"
    }
   },
   "outputs": [
    {
     "data": {
      "text/plain": [
       "10955"
      ]
     },
     "execution_count": 44,
     "metadata": {},
     "output_type": "execute_result"
    }
   ],
   "source": [
    "c = 0\n",
    "bug_com = []\n",
    "for i,comments in enumerate(df['comments']):\n",
    "    c += len(comments)\n",
    "    if isinstance(comments,tuple):\n",
    "        for comment in comments:\n",
    "            if not isinstance(comment, dict):\n",
    "                bug_com.append(i)\n",
    "    else:\n",
    "        print(type(comments))\n",
    "\n",
    "bug_com=np.unique(np.array(bug_com))\n",
    "c"
   ]
  },
  {
   "cell_type": "code",
   "execution_count": 45,
   "metadata": {},
   "outputs": [
    {
     "data": {
      "text/plain": [
       "array([], dtype=float64)"
      ]
     },
     "execution_count": 45,
     "metadata": {},
     "output_type": "execute_result"
    }
   ],
   "source": [
    "bug_com"
   ]
  },
  {
   "cell_type": "code",
   "execution_count": 46,
   "metadata": {},
   "outputs": [
    {
     "data": {
      "text/plain": [
       "422"
      ]
     },
     "execution_count": 46,
     "metadata": {},
     "output_type": "execute_result"
    }
   ],
   "source": [
    "len(df)"
   ]
  },
  {
   "cell_type": "code",
   "execution_count": 52,
   "metadata": {},
   "outputs": [],
   "source": [
    "from tools.read import get_data"
   ]
  },
  {
   "cell_type": "code",
   "execution_count": 51,
   "metadata": {},
   "outputs": [],
   "source": [
    "%load_ext autoreload\n",
    "%autoreload 2"
   ]
  },
  {
   "cell_type": "code",
   "execution_count": 62,
   "metadata": {},
   "outputs": [],
   "source": [
    "df = get_data('data/dataset500.csv')"
   ]
  },
  {
   "cell_type": "code",
   "execution_count": 63,
   "metadata": {},
   "outputs": [],
   "source": [
    "df.loc[:,'genres'] = df.apply(lambda x: [genre.strip() for genre in x['genres'].split(',')],axis=1)\n"
   ]
  },
  {
   "cell_type": "code",
   "execution_count": 64,
   "metadata": {},
   "outputs": [
    {
     "data": {
      "text/plain": [
       "0                   [RPG]\n",
       "1                   [RPG]\n",
       "2                   [RPG]\n",
       "3                   [RPG]\n",
       "4                   [RPG]\n",
       "              ...        \n",
       "417            [MMO, RPG]\n",
       "418            [MMO, RPG]\n",
       "419            [Aventure]\n",
       "420      [MMO, Stratégie]\n",
       "421    [Aventure, Action]\n",
       "Name: genres, Length: 422, dtype: object"
      ]
     },
     "execution_count": 64,
     "metadata": {},
     "output_type": "execute_result"
    }
   ],
   "source": [
    "df['genres']"
   ]
  }
 ],
 "metadata": {
  "interpreter": {
   "hash": "9507db8dc3e0fafa4a3acc25551a053f164aebafaf25c916b48ef5aae22be56b"
  },
  "kernelspec": {
   "display_name": "Python 3.9.7 ('venv': venv)",
   "language": "python",
   "name": "python3"
  },
  "language_info": {
   "codemirror_mode": {
    "name": "ipython",
    "version": 3
   },
   "file_extension": ".py",
   "mimetype": "text/x-python",
   "name": "python",
   "nbconvert_exporter": "python",
   "pygments_lexer": "ipython3",
   "version": "3.9.7"
  }
 },
 "nbformat": 4,
 "nbformat_minor": 0
}
