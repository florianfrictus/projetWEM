{
 "cells": [
  {
   "cell_type": "code",
   "execution_count": 1,
   "metadata": {},
   "outputs": [],
   "source": [
    "import pandas as pd\n",
    "import numpy as np\n",
    "import json\n",
    "import ast"
   ]
  },
  {
   "cell_type": "code",
   "execution_count": 2,
   "metadata": {
    "pycharm": {
     "name": "#%%\n"
    }
   },
   "outputs": [],
   "source": [
    "df = pd.read_csv('data/dataset500.csv')"
   ]
  },
  {
   "cell_type": "code",
   "execution_count": 3,
   "metadata": {},
   "outputs": [
    {
     "data": {
      "text/plain": [
       "'{\"date\":[\"2021-05-06T00:00:00.000Z\"],\"grade\":[20],\"comment\":[\"J\\'étais vraiment hypé par ce jeu , et j\\'en suis très content , c\\'est un espèce de JDR sur plateau à jouer entre amis (ou matchmaking aléatoire/solo/trouver des amis sur le discord officiel) et c\\'est super fun. Chaque joueur choisit un perso parmi les 4 classes (j\\'ai pas testé le mode solo mais en solo c\\'est différent on peut avoir plusieurs personnages à la fois ) et on avance dans le donjon comme dans un JDR sur table classique.On a 2 points d\\'action par tour , des cartes que l\\'on gagne ou achète au fur et à mesure de la partie et pas mal de tresors et interactions sur les différentes \\\\\"map\\\\\" jusqu\\'à arriver au boss. La difficulté est assez corsée mais c\\'est dû à l\\'aspect roguelike du jeu , entre chaque parties on gagne des points d\\'expérience pour gagner des skins.Le jeu vient de sortir sur quest (en crossbuy mais la version rift doit arriver dans la semaine , si vous achetez le jeu sur quest vous aurez la version rift quand il sortira) et steam.Il y a déjà du contenu de prévu ( https://twitter.com/DemeoGame/status/1389956706491322368/photo/1 ) , un discord officiel ( https://store.steampowered.com/news/app/1484280/view/4706800454257642536 ) ainsi qu\\'une vidéo de présentation si vous voulez vous faire une idée du jeu https://www.youtube.com/watch?v=hqh3X9MCXPoC\\'est fait par resolutions game et le jeu est déjà dispo en Français. Ce jeu est assez exceptionnel pour en parler , c\\'est assez rare d\\'avoir des jeux de rôle d\\'une telle qualité et surtout en vr. Une version PC flat est en développement aussi en parallèle.\"],\"username\":[\"]peceiste[\"]}'"
      ]
     },
     "execution_count": 3,
     "metadata": {},
     "output_type": "execute_result"
    }
   ],
   "source": [
    "df.loc[54].comments"
   ]
  },
  {
   "cell_type": "code",
   "execution_count": 4,
   "metadata": {
    "pycharm": {
     "name": "#%%\n"
    }
   },
   "outputs": [],
   "source": [
    "df.loc[:, \"comments\"] = df.apply(lambda x: ast.literal_eval(x['comments']), axis=1)"
   ]
  },
  {
   "cell_type": "code",
   "execution_count": 5,
   "metadata": {},
   "outputs": [
    {
     "data": {
      "text/plain": [
       "{'date': ['2021-05-06T00:00:00.000Z'],\n",
       " 'grade': [20],\n",
       " 'comment': ['J\\'étais vraiment hypé par ce jeu , et j\\'en suis très content , c\\'est un espèce de JDR sur plateau à jouer entre amis (ou matchmaking aléatoire/solo/trouver des amis sur le discord officiel) et c\\'est super fun. Chaque joueur choisit un perso parmi les 4 classes (j\\'ai pas testé le mode solo mais en solo c\\'est différent on peut avoir plusieurs personnages à la fois ) et on avance dans le donjon comme dans un JDR sur table classique.On a 2 points d\\'action par tour , des cartes que l\\'on gagne ou achète au fur et à mesure de la partie et pas mal de tresors et interactions sur les différentes \"map\" jusqu\\'à arriver au boss. La difficulté est assez corsée mais c\\'est dû à l\\'aspect roguelike du jeu , entre chaque parties on gagne des points d\\'expérience pour gagner des skins.Le jeu vient de sortir sur quest (en crossbuy mais la version rift doit arriver dans la semaine , si vous achetez le jeu sur quest vous aurez la version rift quand il sortira) et steam.Il y a déjà du contenu de prévu ( https://twitter.com/DemeoGame/status/1389956706491322368/photo/1 ) , un discord officiel ( https://store.steampowered.com/news/app/1484280/view/4706800454257642536 ) ainsi qu\\'une vidéo de présentation si vous voulez vous faire une idée du jeu https://www.youtube.com/watch?v=hqh3X9MCXPoC\\'est fait par resolutions game et le jeu est déjà dispo en Français. Ce jeu est assez exceptionnel pour en parler , c\\'est assez rare d\\'avoir des jeux de rôle d\\'une telle qualité et surtout en vr. Une version PC flat est en développement aussi en parallèle.'],\n",
       " 'username': [']peceiste[']}"
      ]
     },
     "execution_count": 5,
     "metadata": {},
     "output_type": "execute_result"
    }
   ],
   "source": [
    "df.loc[54].comments"
   ]
  },
  {
   "cell_type": "code",
   "execution_count": 6,
   "metadata": {
    "pycharm": {
     "name": "#%%\n"
    }
   },
   "outputs": [],
   "source": [
    "df.loc[:,'comments'] = df.apply(lambda x: (x['comments'],) if isinstance(x['comments'],dict) else x['comments'],axis=1)"
   ]
  },
  {
   "cell_type": "code",
   "execution_count": 7,
   "metadata": {},
   "outputs": [
    {
     "data": {
      "text/plain": [
       "_id                                             trvIr4ABldsEF0oppIQ0\n",
       "name                                                           Demeo\n",
       "platform                                                          PC\n",
       "editorial_grade                                                   -1\n",
       "genres                                                   Dungeon RPG\n",
       "release_date                              Apr 7, 2022 @ 02:00:00.000\n",
       "synopsis           Demeo est un dungeon-crawler et un RPG uniquem...\n",
       "users_grade                                                     20.0\n",
       "comments           ({'date': ['2021-05-06T00:00:00.000Z'], 'grade...\n",
       "Name: 54, dtype: object"
      ]
     },
     "execution_count": 7,
     "metadata": {},
     "output_type": "execute_result"
    }
   ],
   "source": [
    "df.loc[54]"
   ]
  },
  {
   "cell_type": "code",
   "execution_count": 8,
   "metadata": {
    "pycharm": {
     "name": "#%%\n"
    }
   },
   "outputs": [
    {
     "data": {
      "text/plain": [
       "10955"
      ]
     },
     "execution_count": 8,
     "metadata": {},
     "output_type": "execute_result"
    }
   ],
   "source": [
    "c = 0\n",
    "bug_com = []\n",
    "for i,comments in enumerate(df['comments']):\n",
    "    c += len(comments)\n",
    "    if isinstance(comments,tuple):\n",
    "        for comment in comments:\n",
    "            if not isinstance(comment, dict):\n",
    "                bug_com.append(i)\n",
    "    else:\n",
    "        print(type(comments))\n",
    "\n",
    "bug_com=np.unique(np.array(bug_com))\n",
    "c"
   ]
  },
  {
   "cell_type": "code",
   "execution_count": 9,
   "metadata": {},
   "outputs": [
    {
     "data": {
      "text/plain": [
       "array([], dtype=float64)"
      ]
     },
     "execution_count": 9,
     "metadata": {},
     "output_type": "execute_result"
    }
   ],
   "source": [
    "bug_com"
   ]
  },
  {
   "cell_type": "code",
   "execution_count": 10,
   "metadata": {},
   "outputs": [
    {
     "data": {
      "text/plain": [
       "422"
      ]
     },
     "execution_count": 10,
     "metadata": {},
     "output_type": "execute_result"
    }
   ],
   "source": [
    "len(df)"
   ]
  },
  {
   "cell_type": "code",
   "execution_count": 11,
   "metadata": {},
   "outputs": [],
   "source": [
    "from tools.read import get_data"
   ]
  },
  {
   "cell_type": "code",
   "execution_count": 12,
   "metadata": {},
   "outputs": [],
   "source": [
    "%load_ext autoreload\n",
    "%autoreload 2"
   ]
  },
  {
   "cell_type": "code",
   "execution_count": 13,
   "metadata": {},
   "outputs": [],
   "source": [
    "df = get_data('data/dataset500.csv')"
   ]
  },
  {
   "cell_type": "code",
   "execution_count": 14,
   "metadata": {},
   "outputs": [
    {
     "data": {
      "text/html": [
       "<div>\n",
       "<style scoped>\n",
       "    .dataframe tbody tr th:only-of-type {\n",
       "        vertical-align: middle;\n",
       "    }\n",
       "\n",
       "    .dataframe tbody tr th {\n",
       "        vertical-align: top;\n",
       "    }\n",
       "\n",
       "    .dataframe thead th {\n",
       "        text-align: right;\n",
       "    }\n",
       "</style>\n",
       "<table border=\"1\" class=\"dataframe\">\n",
       "  <thead>\n",
       "    <tr style=\"text-align: right;\">\n",
       "      <th></th>\n",
       "      <th>_id</th>\n",
       "      <th>name</th>\n",
       "      <th>platform</th>\n",
       "      <th>editorial_grade</th>\n",
       "      <th>genres</th>\n",
       "      <th>release_date</th>\n",
       "      <th>synopsis</th>\n",
       "      <th>users_grade</th>\n",
       "      <th>comments</th>\n",
       "    </tr>\n",
       "  </thead>\n",
       "  <tbody>\n",
       "    <tr>\n",
       "      <th>0</th>\n",
       "      <td>gLvFr4ABldsEF0opFITL</td>\n",
       "      <td>Elden Ring</td>\n",
       "      <td>PlayStation 5</td>\n",
       "      <td>18</td>\n",
       "      <td>RPG</td>\n",
       "      <td>Feb 25, 2022 @ 01:00:00.000</td>\n",
       "      <td>Elden Ring est le nouveau jeu de From Software...</td>\n",
       "      <td>17.0</td>\n",
       "      <td>({'date': ['2022-04-14T00:00:00.000Z'], 'grade...</td>\n",
       "    </tr>\n",
       "    <tr>\n",
       "      <th>1</th>\n",
       "      <td>gbvFr4ABldsEF0opVITg</td>\n",
       "      <td>Elden Ring</td>\n",
       "      <td>PC</td>\n",
       "      <td>18</td>\n",
       "      <td>RPG</td>\n",
       "      <td>Feb 25, 2022 @ 01:00:00.000</td>\n",
       "      <td>Elden Ring est le nouveau jeu de From Software...</td>\n",
       "      <td>17.0</td>\n",
       "      <td>({'date': ['2022-03-24T00:00:00.000Z'], 'grade...</td>\n",
       "    </tr>\n",
       "    <tr>\n",
       "      <th>2</th>\n",
       "      <td>grvFr4ABldsEF0opZ4RD</td>\n",
       "      <td>Elden Ring</td>\n",
       "      <td>Xbox Series</td>\n",
       "      <td>18</td>\n",
       "      <td>RPG</td>\n",
       "      <td>Feb 25, 2022 @ 01:00:00.000</td>\n",
       "      <td>Elden Ring est le nouveau jeu de From Software...</td>\n",
       "      <td>17.0</td>\n",
       "      <td>({'date': ['2022-03-03T00:00:00.000Z'], 'grade...</td>\n",
       "    </tr>\n",
       "    <tr>\n",
       "      <th>3</th>\n",
       "      <td>g7vFr4ABldsEF0opgIRM</td>\n",
       "      <td>Elden Ring</td>\n",
       "      <td>PlayStation 4</td>\n",
       "      <td>18</td>\n",
       "      <td>RPG</td>\n",
       "      <td>Feb 25, 2022 @ 01:00:00.000</td>\n",
       "      <td>Elden Ring est le nouveau jeu de From Software...</td>\n",
       "      <td>17.0</td>\n",
       "      <td>({'date': ['2022-03-03T00:00:00.000Z'], 'grade...</td>\n",
       "    </tr>\n",
       "    <tr>\n",
       "      <th>4</th>\n",
       "      <td>hLvFr4ABldsEF0ophoQ9</td>\n",
       "      <td>Elden Ring</td>\n",
       "      <td>Xbox One</td>\n",
       "      <td>18</td>\n",
       "      <td>RPG</td>\n",
       "      <td>Feb 25, 2022 @ 01:00:00.000</td>\n",
       "      <td>Elden Ring est le nouveau jeu de From Software...</td>\n",
       "      <td>17.0</td>\n",
       "      <td>({'date': ['2022-03-11T00:00:00.000Z'], 'grade...</td>\n",
       "    </tr>\n",
       "    <tr>\n",
       "      <th>...</th>\n",
       "      <td>...</td>\n",
       "      <td>...</td>\n",
       "      <td>...</td>\n",
       "      <td>...</td>\n",
       "      <td>...</td>\n",
       "      <td>...</td>\n",
       "      <td>...</td>\n",
       "      <td>...</td>\n",
       "      <td>...</td>\n",
       "    </tr>\n",
       "    <tr>\n",
       "      <th>417</th>\n",
       "      <td>Ibvsr4ABldsEF0ops4Yd</td>\n",
       "      <td>Final Fantasy XIV : Heavensward</td>\n",
       "      <td>PlayStation 4</td>\n",
       "      <td>17</td>\n",
       "      <td>MMO, RPG</td>\n",
       "      <td>Jun 23, 2015 @ 02:00:00.000</td>\n",
       "      <td>Première extension pour le MMORPG Final Fantas...</td>\n",
       "      <td>18.2</td>\n",
       "      <td>({'date': ['2019-10-26T00:00:00.000Z'], 'grade...</td>\n",
       "    </tr>\n",
       "    <tr>\n",
       "      <th>418</th>\n",
       "      <td>Irvsr4ABldsEF0optoYn</td>\n",
       "      <td>Final Fantasy XIV : Heavensward</td>\n",
       "      <td>PC</td>\n",
       "      <td>17</td>\n",
       "      <td>MMO, RPG</td>\n",
       "      <td>Jun 23, 2015 @ 02:00:00.000</td>\n",
       "      <td>Première extension pour le MMORPG Final Fantas...</td>\n",
       "      <td>18.2</td>\n",
       "      <td>({'date': ['2015-08-25T00:00:00.000Z'], 'grade...</td>\n",
       "    </tr>\n",
       "    <tr>\n",
       "      <th>419</th>\n",
       "      <td>I7vsr4ABldsEF0opyIZO</td>\n",
       "      <td>Tales from the Borderlands : Episode 3 - Catch...</td>\n",
       "      <td>PC</td>\n",
       "      <td>-1</td>\n",
       "      <td>Aventure</td>\n",
       "      <td>Jun 23, 2015 @ 02:00:00.000</td>\n",
       "      <td>Tales from the Borderlands : Episode 3 - Catch...</td>\n",
       "      <td>16.0</td>\n",
       "      <td>({'date': ['2015-06-26T00:00:00.000Z'], 'grade...</td>\n",
       "    </tr>\n",
       "    <tr>\n",
       "      <th>420</th>\n",
       "      <td>JLvtr4ABldsEF0opAoaC</td>\n",
       "      <td>Tribal Wars 2</td>\n",
       "      <td>Android</td>\n",
       "      <td>-1</td>\n",
       "      <td>MMO, Stratégie</td>\n",
       "      <td>Jun 23, 2015 @ 02:00:00.000</td>\n",
       "      <td>Tribal Wars 2 est un jeu de stratégie en ligne...</td>\n",
       "      <td>15.0</td>\n",
       "      <td>({'date': ['2015-09-16T00:00:00.000Z'], 'grade...</td>\n",
       "    </tr>\n",
       "    <tr>\n",
       "      <th>421</th>\n",
       "      <td>Jbvtr4ABldsEF0opfYZM</td>\n",
       "      <td>Batman Arkham Knight</td>\n",
       "      <td>PlayStation 4</td>\n",
       "      <td>17</td>\n",
       "      <td>Aventure, Action</td>\n",
       "      <td>Jun 23, 2015 @ 02:00:00.000</td>\n",
       "      <td>Se déroulant un an après les événements de Bat...</td>\n",
       "      <td>17.2</td>\n",
       "      <td>({'date': ['2016-05-09T00:00:00.000Z'], 'grade...</td>\n",
       "    </tr>\n",
       "  </tbody>\n",
       "</table>\n",
       "<p>422 rows × 9 columns</p>\n",
       "</div>"
      ],
      "text/plain": [
       "                      _id                                               name  \\\n",
       "0    gLvFr4ABldsEF0opFITL                                         Elden Ring   \n",
       "1    gbvFr4ABldsEF0opVITg                                         Elden Ring   \n",
       "2    grvFr4ABldsEF0opZ4RD                                         Elden Ring   \n",
       "3    g7vFr4ABldsEF0opgIRM                                         Elden Ring   \n",
       "4    hLvFr4ABldsEF0ophoQ9                                         Elden Ring   \n",
       "..                    ...                                                ...   \n",
       "417  Ibvsr4ABldsEF0ops4Yd                    Final Fantasy XIV : Heavensward   \n",
       "418  Irvsr4ABldsEF0optoYn                    Final Fantasy XIV : Heavensward   \n",
       "419  I7vsr4ABldsEF0opyIZO  Tales from the Borderlands : Episode 3 - Catch...   \n",
       "420  JLvtr4ABldsEF0opAoaC                                      Tribal Wars 2   \n",
       "421  Jbvtr4ABldsEF0opfYZM                               Batman Arkham Knight   \n",
       "\n",
       "          platform  editorial_grade            genres  \\\n",
       "0    PlayStation 5               18               RPG   \n",
       "1               PC               18               RPG   \n",
       "2      Xbox Series               18               RPG   \n",
       "3    PlayStation 4               18               RPG   \n",
       "4         Xbox One               18               RPG   \n",
       "..             ...              ...               ...   \n",
       "417  PlayStation 4               17          MMO, RPG   \n",
       "418             PC               17          MMO, RPG   \n",
       "419             PC               -1          Aventure   \n",
       "420        Android               -1    MMO, Stratégie   \n",
       "421  PlayStation 4               17  Aventure, Action   \n",
       "\n",
       "                    release_date  \\\n",
       "0    Feb 25, 2022 @ 01:00:00.000   \n",
       "1    Feb 25, 2022 @ 01:00:00.000   \n",
       "2    Feb 25, 2022 @ 01:00:00.000   \n",
       "3    Feb 25, 2022 @ 01:00:00.000   \n",
       "4    Feb 25, 2022 @ 01:00:00.000   \n",
       "..                           ...   \n",
       "417  Jun 23, 2015 @ 02:00:00.000   \n",
       "418  Jun 23, 2015 @ 02:00:00.000   \n",
       "419  Jun 23, 2015 @ 02:00:00.000   \n",
       "420  Jun 23, 2015 @ 02:00:00.000   \n",
       "421  Jun 23, 2015 @ 02:00:00.000   \n",
       "\n",
       "                                              synopsis  users_grade  \\\n",
       "0    Elden Ring est le nouveau jeu de From Software...         17.0   \n",
       "1    Elden Ring est le nouveau jeu de From Software...         17.0   \n",
       "2    Elden Ring est le nouveau jeu de From Software...         17.0   \n",
       "3    Elden Ring est le nouveau jeu de From Software...         17.0   \n",
       "4    Elden Ring est le nouveau jeu de From Software...         17.0   \n",
       "..                                                 ...          ...   \n",
       "417  Première extension pour le MMORPG Final Fantas...         18.2   \n",
       "418  Première extension pour le MMORPG Final Fantas...         18.2   \n",
       "419  Tales from the Borderlands : Episode 3 - Catch...         16.0   \n",
       "420  Tribal Wars 2 est un jeu de stratégie en ligne...         15.0   \n",
       "421  Se déroulant un an après les événements de Bat...         17.2   \n",
       "\n",
       "                                              comments  \n",
       "0    ({'date': ['2022-04-14T00:00:00.000Z'], 'grade...  \n",
       "1    ({'date': ['2022-03-24T00:00:00.000Z'], 'grade...  \n",
       "2    ({'date': ['2022-03-03T00:00:00.000Z'], 'grade...  \n",
       "3    ({'date': ['2022-03-03T00:00:00.000Z'], 'grade...  \n",
       "4    ({'date': ['2022-03-11T00:00:00.000Z'], 'grade...  \n",
       "..                                                 ...  \n",
       "417  ({'date': ['2019-10-26T00:00:00.000Z'], 'grade...  \n",
       "418  ({'date': ['2015-08-25T00:00:00.000Z'], 'grade...  \n",
       "419  ({'date': ['2015-06-26T00:00:00.000Z'], 'grade...  \n",
       "420  ({'date': ['2015-09-16T00:00:00.000Z'], 'grade...  \n",
       "421  ({'date': ['2016-05-09T00:00:00.000Z'], 'grade...  \n",
       "\n",
       "[422 rows x 9 columns]"
      ]
     },
     "execution_count": 14,
     "metadata": {},
     "output_type": "execute_result"
    }
   ],
   "source": [
    "df"
   ]
  },
  {
   "cell_type": "code",
   "execution_count": 35,
   "metadata": {},
   "outputs": [],
   "source": [
    "data = [(df['comments'][i][0]['comment'][0], df['comments'][i][0]['grade'][0]) for i in range(len(df))]"
   ]
  },
  {
   "cell_type": "code",
   "execution_count": 38,
   "metadata": {},
   "outputs": [
    {
     "data": {
      "text/plain": [
       "('La quintessence de la formule des Souls.Miyazaki continue corps et âme de parfaire son oeuvre. Fera-t-il un jour un jeu ne serait-ce que \"bien\" ? Sa régularité et sa progression sont vraiment impressionnantes..Premier open world pour le boss du gamedesign du jeu vidéo, la proposition est pleinement réussite. Maîtrisée avec maestria. Cet open world est un véritable chef d’œuvre, un bijoux, dont les termes les plus élogieux ne sauraient suffire pour le définir. D\\'une immensité folle, où tout a un sens, et où à chaque instant la sensation et la soif d\\'exploration nous anime pour notre plus grand bonheur d\\'âme damnée, meurtrie par tant de jeux, et dont aucun n\\'arrivent à nous procurer ces sentiments si uniques que seuls les jeux de notre Dieu Hidetaka nous procurent.Comme à son habitude les équipes de Miyazaki excellent dans toutes les composantes du gamedesign. Direction artistique, OST, Level Design, Sound Design, Gameplay & co ; on est au firmament de tout ce qu\\'ils ont fait jusqu\\'ici. Les boss sont anthologiques, les environnements sont riches / variés / majestueux, les châteaux extraordinaires.. les possibilités sont infinies. Le jeu est d\\'une richesse folle et aussi hallucinant que cela puisse être, Elden Ring fait passer presque pour \"ringard\" tous les autres jeux de Miyazaki qui pourtant, sont ô combien anthologiques comme nous ne le savons que trop bien. J\\'ai été littéralement subjugué par ce que le jeu nous offre. Si vous pensiez avoir vu le meilleur de ce que FromSoftware pouvait faire, et à raison tant leurs précédentes productions tapaient dans déjà toutes dans l\\'excellence, avec Elden Ring ils ont réussi l’impensable: faire encore mieux..Elden Ring est le plus grand, le plus ambitieux, le plus génial et le plus extraordinaire jeu que Miyazaki et ses équipes aient fait. Miyazaki était avant Elden Ring un Ange de paix, au génie d\\'exception, venu nous libérer et nous apporter une certaine lumière dans cette industrie du jeu vidéo démoniaque et ô combien macabre hélas. Après Elden Ring, il devient un Dieu, une Divinité éternelle, pour qui nos destins, nos âmes, sont liées à jamais, pour l\\'éternité.Cependant un seul petit \"regret\" pour moi, la collab avec RR Martin me laissait espérer / présager peut être d\\'avoir une sorte de Dark Souls \"The Witcherisé\" avec une narration poussée et explicite, voir même des interactions ou encore de la vie comme dans un Dragon\\'s Dogma. Il n\\'en n\\'est ( presque ) rien et sur ce point on est toujours dans cette narration abstraite, lugubre et mystérieuse.Pour conclure, la proposition faisait rêver, une fois plongé dans cet univers d\\'exception il m\\'a fallu un temps pour digérer et réaliser que ce doux rêve était bel et bien une réalité et que oui le jeu tient ses toutes promesses. \"Pire\" encore.. il va même au delà et repousse toutes les limites comme vous ne l\\'aurez que trop bien compris. Je me disais qu\\'après un jeu pareil la boucle serait sans doute bouclée.. il n\\'en n\\'est rien. Au contraire, il ouvre un nouveau chapitre où l\\'on peu d\\'ores et déjà se projeter et se dire qu\\' Elden Ring n\\'est potentiellement qu\\'une base pour de futurs projets qui repousseraient encore et toujours plus les limites de nos imaginations et de nos désirs vidéo ludiques. Imaginez pouvoir survoler ces mondes immenses à dos de griffon ou de dragon, avoir des zones et des combats dans les airs, de même que de partir à la conquête des mers, des fonds marins ou que sais-je encore.. Ils sont tellement à un niveau qualitatif comme rarement des studios n\\'ont atteint dans l\\'histoire, que quoi qu\\'ils fassent, avec leur haut degré d\\'exigence qui se ressent à chaque instant, ils vont sûrement nous faire rêver bon nombre d\\'années encore, pour notre plus grand bonheur. Ah et autre bonne nouvelle,  le jeu est enfin \"accessible\" sans déroger à son ADN. Certaines mécaniques de jeu permettent à chacun de s\\'y retrouver et d\\'aborder le jeu comme bon lui semble. Tout le monde y trouve son compte, les gros try hardeur, les joueurs normaux, comme les nouveaux venus. C\\'est le principal. Et par pitié, au diable ces préjugés et ces pressions sociales en carton qui voudraient que ce serait soit disant des jeux de pro-g@m3rz élitistes.. N\\'ayez plus peur de franchir le pas, kiffez juste VOTRE aventure Gloire à toi ô Grand Seigneur Hidetaka, nous ne pouvons qu\\'être honorés de ton existence. Du fond du coeur, Merci.',\n",
       " 19)"
      ]
     },
     "execution_count": 38,
     "metadata": {},
     "output_type": "execute_result"
    }
   ],
   "source": [
    "data[2]"
   ]
  },
  {
   "cell_type": "code",
   "execution_count": null,
   "metadata": {},
   "outputs": [],
   "source": []
  }
 ],
 "metadata": {
  "interpreter": {
   "hash": "9507db8dc3e0fafa4a3acc25551a053f164aebafaf25c916b48ef5aae22be56b"
  },
  "kernelspec": {
   "display_name": "Python 3 (ipykernel)",
   "language": "python",
   "name": "python3"
  },
  "language_info": {
   "codemirror_mode": {
    "name": "ipython",
    "version": 3
   },
   "file_extension": ".py",
   "mimetype": "text/x-python",
   "name": "python",
   "nbconvert_exporter": "python",
   "pygments_lexer": "ipython3",
   "version": "3.9.13"
  }
 },
 "nbformat": 4,
 "nbformat_minor": 1
}
