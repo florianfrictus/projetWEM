{
 "cells": [
  {
   "cell_type": "markdown",
   "id": "e4b6d35f",
   "metadata": {},
   "source": [
    "## WEM project: JVC Review Bombing Detection"
   ]
  },
  {
   "cell_type": "markdown",
   "id": "abbfca79",
   "metadata": {},
   "source": [
    "#### Project's members:  Campos Carvalho Cédric, Feuillade Florian, Ramosaj Nicolas"
   ]
  },
  {
   "cell_type": "markdown",
   "id": "3c348c5a",
   "metadata": {},
   "source": [
    "#### Import Libraires"
   ]
  },
  {
   "cell_type": "code",
   "execution_count": 1,
   "id": "25805666",
   "metadata": {},
   "outputs": [],
   "source": [
    "import pandas as pd\n",
    "import numpy as np\n",
    "from review_bombing import *\n",
    "from tools.read import get_data\n",
    "\n",
    "%load_ext autoreload\n",
    "%autoreload 2"
   ]
  },
  {
   "cell_type": "markdown",
   "id": "d2a16a54",
   "metadata": {},
   "source": [
    "#### Load Dataset"
   ]
  },
  {
   "cell_type": "code",
   "execution_count": 2,
   "id": "1b99e93f",
   "metadata": {
    "scrolled": true
   },
   "outputs": [
    {
     "data": {
      "text/html": [
       "<div>\n",
       "<style scoped>\n",
       "    .dataframe tbody tr th:only-of-type {\n",
       "        vertical-align: middle;\n",
       "    }\n",
       "\n",
       "    .dataframe tbody tr th {\n",
       "        vertical-align: top;\n",
       "    }\n",
       "\n",
       "    .dataframe thead th {\n",
       "        text-align: right;\n",
       "    }\n",
       "</style>\n",
       "<table border=\"1\" class=\"dataframe\">\n",
       "  <thead>\n",
       "    <tr style=\"text-align: right;\">\n",
       "      <th></th>\n",
       "      <th>game</th>\n",
       "      <th>platform</th>\n",
       "      <th>comment</th>\n",
       "      <th>username</th>\n",
       "      <th>grade</th>\n",
       "    </tr>\n",
       "  </thead>\n",
       "  <tbody>\n",
       "    <tr>\n",
       "      <th>0</th>\n",
       "      <td>Elden Ring</td>\n",
       "      <td>PlayStation 5</td>\n",
       "      <td>Comme Socrate disait:\"les personnes qui font s...</td>\n",
       "      <td>Platon_Socrate</td>\n",
       "      <td>20</td>\n",
       "    </tr>\n",
       "    <tr>\n",
       "      <th>1</th>\n",
       "      <td>Elden Ring</td>\n",
       "      <td>PlayStation 5</td>\n",
       "      <td>La quintessence de la formule des Souls.Miyaza...</td>\n",
       "      <td>Chichariito</td>\n",
       "      <td>19</td>\n",
       "    </tr>\n",
       "    <tr>\n",
       "      <th>2</th>\n",
       "      <td>Elden Ring</td>\n",
       "      <td>PlayStation 5</td>\n",
       "      <td>Le jeu est excellent et tourne bien sur PS5 en...</td>\n",
       "      <td>TheRealBigBoss</td>\n",
       "      <td>20</td>\n",
       "    </tr>\n",
       "    <tr>\n",
       "      <th>3</th>\n",
       "      <td>Elden Ring</td>\n",
       "      <td>PlayStation 5</td>\n",
       "      <td>Je suis là pour corriger ma note, j'ai retiré ...</td>\n",
       "      <td>keanu77fr</td>\n",
       "      <td>18</td>\n",
       "    </tr>\n",
       "    <tr>\n",
       "      <th>4</th>\n",
       "      <td>Elden Ring</td>\n",
       "      <td>PlayStation 5</td>\n",
       "      <td>Tout à fait novice dans les jeux Fromsoftware ...</td>\n",
       "      <td>enguerrand_92</td>\n",
       "      <td>19</td>\n",
       "    </tr>\n",
       "  </tbody>\n",
       "</table>\n",
       "</div>"
      ],
      "text/plain": [
       "         game       platform  \\\n",
       "0  Elden Ring  PlayStation 5   \n",
       "1  Elden Ring  PlayStation 5   \n",
       "2  Elden Ring  PlayStation 5   \n",
       "3  Elden Ring  PlayStation 5   \n",
       "4  Elden Ring  PlayStation 5   \n",
       "\n",
       "                                             comment        username  grade  \n",
       "0  Comme Socrate disait:\"les personnes qui font s...  Platon_Socrate     20  \n",
       "1  La quintessence de la formule des Souls.Miyaza...     Chichariito     19  \n",
       "2  Le jeu est excellent et tourne bien sur PS5 en...  TheRealBigBoss     20  \n",
       "3  Je suis là pour corriger ma note, j'ai retiré ...       keanu77fr     18  \n",
       "4  Tout à fait novice dans les jeux Fromsoftware ...   enguerrand_92     19  "
      ]
     },
     "execution_count": 2,
     "metadata": {},
     "output_type": "execute_result"
    }
   ],
   "source": [
    "dataset = get_data('data/dataset500.csv')\n",
    "data = [{'game':dataset['name'][i], 'platform':dataset['platform'][i], \n",
    "        'grade':comment['grade'][0],'comment':comment['comment'][0],'username':comment['username'][0]}\n",
    "        for i, comments in enumerate(dataset['comments']) for comment in comments]\n",
    "df = pd.DataFrame(data, columns=['game', 'platform', 'comment', 'username', 'grade'])\n",
    "df.head()\n",
    "#print(len(df))"
   ]
  },
  {
   "cell_type": "markdown",
   "id": "102e64e2",
   "metadata": {},
   "source": [
    "#### Data normalization"
   ]
  },
  {
   "cell_type": "code",
   "execution_count": 3,
   "id": "18a9f8bf",
   "metadata": {
    "scrolled": true
   },
   "outputs": [],
   "source": [
    "df['comment_normalized'] = [normalize_lemm_stem(comment) for comment in df['comment']]"
   ]
  },
  {
   "cell_type": "code",
   "execution_count": 4,
   "id": "f8c90fcd",
   "metadata": {},
   "outputs": [
    {
     "data": {
      "text/html": [
       "<div>\n",
       "<style scoped>\n",
       "    .dataframe tbody tr th:only-of-type {\n",
       "        vertical-align: middle;\n",
       "    }\n",
       "\n",
       "    .dataframe tbody tr th {\n",
       "        vertical-align: top;\n",
       "    }\n",
       "\n",
       "    .dataframe thead th {\n",
       "        text-align: right;\n",
       "    }\n",
       "</style>\n",
       "<table border=\"1\" class=\"dataframe\">\n",
       "  <thead>\n",
       "    <tr style=\"text-align: right;\">\n",
       "      <th></th>\n",
       "      <th>game</th>\n",
       "      <th>platform</th>\n",
       "      <th>comment</th>\n",
       "      <th>username</th>\n",
       "      <th>grade</th>\n",
       "      <th>comment_normalized</th>\n",
       "    </tr>\n",
       "  </thead>\n",
       "  <tbody>\n",
       "    <tr>\n",
       "      <th>0</th>\n",
       "      <td>Elden Ring</td>\n",
       "      <td>PlayStation 5</td>\n",
       "      <td>Comme Socrate disait:\"les personnes qui font s...</td>\n",
       "      <td>Platon_Socrate</td>\n",
       "      <td>20</td>\n",
       "      <td>comme socrate disaitles personnes font subir p...</td>\n",
       "    </tr>\n",
       "    <tr>\n",
       "      <th>1</th>\n",
       "      <td>Elden Ring</td>\n",
       "      <td>PlayStation 5</td>\n",
       "      <td>La quintessence de la formule des Souls.Miyaza...</td>\n",
       "      <td>Chichariito</td>\n",
       "      <td>19</td>\n",
       "      <td>quintessence formule soulsmiyazaki continue co...</td>\n",
       "    </tr>\n",
       "    <tr>\n",
       "      <th>2</th>\n",
       "      <td>Elden Ring</td>\n",
       "      <td>PlayStation 5</td>\n",
       "      <td>Le jeu est excellent et tourne bien sur PS5 en...</td>\n",
       "      <td>TheRealBigBoss</td>\n",
       "      <td>20</td>\n",
       "      <td>jeu excellent tourne bien ps5 mode performance...</td>\n",
       "    </tr>\n",
       "    <tr>\n",
       "      <th>3</th>\n",
       "      <td>Elden Ring</td>\n",
       "      <td>PlayStation 5</td>\n",
       "      <td>Je suis là pour corriger ma note, j'ai retiré ...</td>\n",
       "      <td>keanu77fr</td>\n",
       "      <td>18</td>\n",
       "      <td>corriger note jai retiré précédent commentaire...</td>\n",
       "    </tr>\n",
       "    <tr>\n",
       "      <th>4</th>\n",
       "      <td>Elden Ring</td>\n",
       "      <td>PlayStation 5</td>\n",
       "      <td>Tout à fait novice dans les jeux Fromsoftware ...</td>\n",
       "      <td>enguerrand_92</td>\n",
       "      <td>19</td>\n",
       "      <td>tout fait novice jeux fromsoftware jai jouer q...</td>\n",
       "    </tr>\n",
       "  </tbody>\n",
       "</table>\n",
       "</div>"
      ],
      "text/plain": [
       "         game       platform  \\\n",
       "0  Elden Ring  PlayStation 5   \n",
       "1  Elden Ring  PlayStation 5   \n",
       "2  Elden Ring  PlayStation 5   \n",
       "3  Elden Ring  PlayStation 5   \n",
       "4  Elden Ring  PlayStation 5   \n",
       "\n",
       "                                             comment        username  grade  \\\n",
       "0  Comme Socrate disait:\"les personnes qui font s...  Platon_Socrate     20   \n",
       "1  La quintessence de la formule des Souls.Miyaza...     Chichariito     19   \n",
       "2  Le jeu est excellent et tourne bien sur PS5 en...  TheRealBigBoss     20   \n",
       "3  Je suis là pour corriger ma note, j'ai retiré ...       keanu77fr     18   \n",
       "4  Tout à fait novice dans les jeux Fromsoftware ...   enguerrand_92     19   \n",
       "\n",
       "                                  comment_normalized  \n",
       "0  comme socrate disaitles personnes font subir p...  \n",
       "1  quintessence formule soulsmiyazaki continue co...  \n",
       "2  jeu excellent tourne bien ps5 mode performance...  \n",
       "3  corriger note jai retiré précédent commentaire...  \n",
       "4  tout fait novice jeux fromsoftware jai jouer q...  "
      ]
     },
     "execution_count": 4,
     "metadata": {},
     "output_type": "execute_result"
    }
   ],
   "source": [
    "df.head()"
   ]
  },
  {
   "cell_type": "markdown",
   "id": "b7bdf951",
   "metadata": {},
   "source": [
    "#### Statistical Analysis"
   ]
  },
  {
   "cell_type": "code",
   "execution_count": 5,
   "id": "f7087f3b",
   "metadata": {},
   "outputs": [
    {
     "name": "stdout",
     "output_type": "stream",
     "text": [
      "Number of comments with grade 19 or 20: 2705\n",
      "Number of comments with grade 0 or 1: 1168\n"
     ]
    }
   ],
   "source": [
    "df_grade_pos = df[df['grade'] > 18]\n",
    "print(\"Number of comments with grade 19 or 20:\", len(df_grade_pos))\n",
    "df_grade_neg = df[df['grade'] < 2]\n",
    "print(\"Number of comments with grade 0 or 1:\", len(df_grade_neg))"
   ]
  },
  {
   "cell_type": "code",
   "execution_count": 6,
   "id": "032ceebd",
   "metadata": {},
   "outputs": [
    {
     "name": "stdout",
     "output_type": "stream",
     "text": [
      "Number of user with a positive behaviour: 246\n",
      "Number of user with a negative behaviour: 249\n"
     ]
    }
   ],
   "source": [
    "names_pos = extreme_behaviour(dataframe=df, sentiment='positive')\n",
    "names_neg = extreme_behaviour(dataframe=df, sentiment='negative')\n",
    "print(\"Number of user with a positive behaviour:\", len(names_pos))\n",
    "print(\"Number of user with a negative behaviour:\", len(names_neg))"
   ]
  },
  {
   "cell_type": "markdown",
   "id": "ea2fa434",
   "metadata": {},
   "source": [
    "#### Prepare Review Bombing Words and Extract Malicious Comments"
   ]
  },
  {
   "cell_type": "code",
   "execution_count": 7,
   "id": "7112d4bf",
   "metadata": {},
   "outputs": [
    {
     "name": "stdout",
     "output_type": "stream",
     "text": [
      "['0', '0/20', '20', '20/20', 'augmente', 'augmenté', 'augmenter', 'augmentes', 'augmentés', 'baisse', 'baissé', 'baisser', 'baisses', 'baissés', 'bombing', 'boycott', 'boycotts', 'bug', 'bugs', 'colere', 'coleres', 'colère', 'colères', 'contre', 'contré', 'contrer', 'contres', 'contrés', 'descendre', 'descendu', 'descendus', 'ensemble', 'ensembles', 'equilibre', 'equilibrer', 'equilibres', 'equilibré', 'equilibrés', 'équilibre', 'équilibrer', 'équilibres', 'équilibré', 'équilibrés', 'evaluation', 'évaluation', 'evalue', 'evalué', 'évalue', 'évalué', 'evaluer', 'évaluer', 'evalues', 'evalués', 'évalues', 'évalués', 'gars', 'honte', 'honteuse', 'honteuses', 'honteux', 'jeuxvideo', 'jeuxvideocom', 'jvc', 'koi', 'mauvais', 'mauvaise', 'mauvaises', 'mec', 'mecs', 'negatif', 'negatifs', 'negative', 'negatives', 'négatif', 'négatifs', 'négative', 'négatives', 'note', 'noter', 'notes', 'patch', 'patche', 'patcher', 'patché', 'positif', 'positifs', 'positive', 'positives', 'quoi', 'rage', 'ragé', 'ragee', 'ragée', 'rager', 'rages', 'ragés', 'sortie', 'sortir', 'troll', 'trolls', 'uni', 'unis', 'zero', 'zeros', 'zéro', 'zéros']\n"
     ]
    }
   ],
   "source": [
    "print(get_bombing_words())"
   ]
  },
  {
   "cell_type": "code",
   "execution_count": 8,
   "id": "5b5866cc",
   "metadata": {},
   "outputs": [
    {
     "name": "stdout",
     "output_type": "stream",
     "text": [
      "1251 712\n"
     ]
    }
   ],
   "source": [
    "review_bombing_pos = naive_bombing(dataframe=df, sentiment='positive')\n",
    "review_bombing_neg = naive_bombing(dataframe=df, sentiment='negative')\n",
    "print(len(review_bombing_pos), len(review_bombing_neg))"
   ]
  },
  {
   "cell_type": "code",
   "execution_count": 9,
   "id": "307285c8",
   "metadata": {},
   "outputs": [],
   "source": [
    "review_bombing_pos = review_bombing_pos[review_bombing_pos['username'].isin(names_pos)]\n",
    "review_bombing_neg = review_bombing_neg[review_bombing_neg['username'].isin(names_neg)]"
   ]
  },
  {
   "cell_type": "markdown",
   "id": "c1053444",
   "metadata": {},
   "source": [
    "#### Positive sentiment analysis Vader"
   ]
  },
  {
   "cell_type": "code",
   "execution_count": 10,
   "id": "3fff106e",
   "metadata": {},
   "outputs": [
    {
     "name": "stderr",
     "output_type": "stream",
     "text": [
      "C:\\Users\\Nicolas\\switchdrive\\MA_WEM\\projetWEM\\review_bombing.py:101: SettingWithCopyWarning: \n",
      "A value is trying to be set on a copy of a slice from a DataFrame.\n",
      "Try using .loc[row_indexer,col_indexer] = value instead\n",
      "\n",
      "See the caveats in the documentation: https://pandas.pydata.org/pandas-docs/stable/user_guide/indexing.html#returning-a-view-versus-a-copy\n",
      "  dataframe['compound_vader'] = [senti['compound'] for senti in senti_vader]\n",
      "C:\\Users\\Nicolas\\switchdrive\\MA_WEM\\projetWEM\\review_bombing.py:110: SettingWithCopyWarning: \n",
      "A value is trying to be set on a copy of a slice from a DataFrame.\n",
      "Try using .loc[row_indexer,col_indexer] = value instead\n",
      "\n",
      "See the caveats in the documentation: https://pandas.pydata.org/pandas-docs/stable/user_guide/indexing.html#returning-a-view-versus-a-copy\n",
      "  dataframe['polarity_tb'] = [senti[0] for senti in sentiment_blob]\n",
      "C:\\Users\\Nicolas\\switchdrive\\MA_WEM\\projetWEM\\review_bombing.py:111: SettingWithCopyWarning: \n",
      "A value is trying to be set on a copy of a slice from a DataFrame.\n",
      "Try using .loc[row_indexer,col_indexer] = value instead\n",
      "\n",
      "See the caveats in the documentation: https://pandas.pydata.org/pandas-docs/stable/user_guide/indexing.html#returning-a-view-versus-a-copy\n",
      "  dataframe['subjectivity_tb'] = [senti[1] for senti in sentiment_blob]\n"
     ]
    }
   ],
   "source": [
    "# review_bombing_pos = extract_game_sentiment(dataframe=review_bombing_pos, game='Elden Ring')\n",
    "review_bombing_pos = extract_game_sentiment(dataframe=review_bombing_pos, game='Gran Turismo 7')"
   ]
  },
  {
   "cell_type": "code",
   "execution_count": 11,
   "id": "ac46a992",
   "metadata": {},
   "outputs": [
    {
     "name": "stdout",
     "output_type": "stream",
     "text": [
      "8\n"
     ]
    }
   ],
   "source": [
    "print(len(review_bombing_pos))\n",
    "review_bombing_pos.to_csv('pos.csv', encoding='utf-8-sig')"
   ]
  },
  {
   "cell_type": "code",
   "execution_count": 12,
   "id": "5340733a",
   "metadata": {},
   "outputs": [
    {
     "name": "stdout",
     "output_type": "stream",
     "text": [
      "Comment: 13 sur 20 par la communauté, pourtant on à ici un jeux sérieux solide et qui respecte les passionnés de voitures.\n",
      "Ok gt7 n'est plus le port- étendard de la simulation de voitures par excellence, comme il l'était a une époque.\n",
      "C'est pas une révolution graphique ou même niveaux sensation.\n",
      "Mais honnêtement le jeux fait plus que le taff, un 16 ou 17 c'est pas volé mais voilla comme certains sous côte car le jeux n'est pas pensé comme eux l'on pensé ou par mauvaise foies simple ou se retrouve avec des exclus sony basher. Last of us, horizon, gt7 franchement c'est triste de chier sur un travail de qualité. Jusqu'à quand seigneur, jusqu'à quand. From Kounic89\n"
     ]
    }
   ],
   "source": [
    "pred = predict_review_bombing(dataframe=review_bombing_pos, sentiment='positive')\n",
    "print(\"Comment:\", pred[0], \"From\", pred[1])"
   ]
  },
  {
   "cell_type": "code",
   "execution_count": 16,
   "id": "412aba47",
   "metadata": {},
   "outputs": [
    {
     "name": "stdout",
     "output_type": "stream",
     "text": [
      "Comment: J'ai le jeu depuis la sortie.\n",
      "Aucunement embeté par la connexion obligatoire..\n",
      "On aurrais pu s'en passer, mais qui n'as pas internet en 2022. Un faux problème.\n",
      "Les mictotransactions trop présentent ? Pas plus que dans cod et fifa, et ne pas sortir la cb ne vous handicaperas pas.\n",
      "60h de jeux, je n'ai pas finis les 'menus' (quêtes en solo), et j'ai 2 permis sur 5.. Une page de defis sur 6.\n",
      "On dirais qu'on parle d'un jeu avec 3 voitures et 2 circuits, et le reste en dlc payant... C'est pas le cas.Ces 0, ce review bombing massif me dégoûte de la communauté des 'joueurs', qui, en 2022, ne se fait pas un avis en jouant, mais en imitant tel des lemmings les dires de leurs youtubeurs ou streamers préfférés, adeptent des dramas et titres putacliquiens pour le buzz.\n",
      "On dirais qu'on parle d'un cyberpunk injouable à sa sortie, alors que là, on as un jeu finis et bien finis, sans bugs, et qui peut vous tennir plus de 50h juste avec son contenu d'origine.\n",
      "Bien plus en refesant des courses deja faites, afin d'avoir + de credits et plus de voiture.. Comme dans tous les GT en sommes.\n",
      "A ceux qui ont aimé GT2 et GT4 (le meilleur).. Foncez, vous retrouverez les mêmes sensations et même mieux.\n",
      "Le mode online n'est pas fameux, c'est vrai, mais le solo est lourd,très lourd. From PandaCroMignon\n"
     ]
    }
   ],
   "source": [
    "pred = predict_review_bombing(dataframe=review_bombing_pos, sentiment=None)\n",
    "print(\"Comment:\", pred[0], \"From\", pred[1])"
   ]
  },
  {
   "cell_type": "markdown",
   "id": "04959956",
   "metadata": {},
   "source": [
    "#### Negative sentiment analysis with TextBlob and Vader"
   ]
  },
  {
   "cell_type": "code",
   "execution_count": 13,
   "id": "894ab1a3",
   "metadata": {},
   "outputs": [
    {
     "name": "stderr",
     "output_type": "stream",
     "text": [
      "C:\\Users\\Nicolas\\switchdrive\\MA_WEM\\projetWEM\\review_bombing.py:101: SettingWithCopyWarning: \n",
      "A value is trying to be set on a copy of a slice from a DataFrame.\n",
      "Try using .loc[row_indexer,col_indexer] = value instead\n",
      "\n",
      "See the caveats in the documentation: https://pandas.pydata.org/pandas-docs/stable/user_guide/indexing.html#returning-a-view-versus-a-copy\n",
      "  dataframe['compound_vader'] = [senti['compound'] for senti in senti_vader]\n",
      "C:\\Users\\Nicolas\\switchdrive\\MA_WEM\\projetWEM\\review_bombing.py:110: SettingWithCopyWarning: \n",
      "A value is trying to be set on a copy of a slice from a DataFrame.\n",
      "Try using .loc[row_indexer,col_indexer] = value instead\n",
      "\n",
      "See the caveats in the documentation: https://pandas.pydata.org/pandas-docs/stable/user_guide/indexing.html#returning-a-view-versus-a-copy\n",
      "  dataframe['polarity_tb'] = [senti[0] for senti in sentiment_blob]\n",
      "C:\\Users\\Nicolas\\switchdrive\\MA_WEM\\projetWEM\\review_bombing.py:111: SettingWithCopyWarning: \n",
      "A value is trying to be set on a copy of a slice from a DataFrame.\n",
      "Try using .loc[row_indexer,col_indexer] = value instead\n",
      "\n",
      "See the caveats in the documentation: https://pandas.pydata.org/pandas-docs/stable/user_guide/indexing.html#returning-a-view-versus-a-copy\n",
      "  dataframe['subjectivity_tb'] = [senti[1] for senti in sentiment_blob]\n"
     ]
    }
   ],
   "source": [
    "# review_bombing_neg = extract_game_sentiment(dataframe=review_bombing_neg, game='Elden Ring')\n",
    "review_bombing_neg = extract_game_sentiment(dataframe=review_bombing_neg, game='Gran Turismo 7')"
   ]
  },
  {
   "cell_type": "code",
   "execution_count": 14,
   "id": "636149ec",
   "metadata": {},
   "outputs": [
    {
     "name": "stdout",
     "output_type": "stream",
     "text": [
      "11\n"
     ]
    }
   ],
   "source": [
    "print(len(review_bombing_neg))\n",
    "review_bombing_neg.to_csv('neg.csv', encoding='utf-8-sig')"
   ]
  },
  {
   "cell_type": "code",
   "execution_count": 15,
   "id": "9ecd8bfc",
   "metadata": {},
   "outputs": [
    {
     "name": "stdout",
     "output_type": "stream",
     "text": [
      "Comment: Comment est-ce possible ? Un jeu qui devait tout avoir pour plaire !Un côté RPG à l'ancienne allié à la capacité de la console dernière génération !On sent l'amour de la voiture des développeurs à chaque minute, quel dommage de gâcher ça avec l'amour de l'argent, probablement ajouté de force par les développeurs à cause d'une hiérarchie définitivement peu au courant de comment marche le monde du jeu vidéo.Un jeu vendu 80€, bourré de micro-transactions aux prix plus que prohibitifs (qui va dépenser 120€ dans une voiture sur un jeu qui coûte déjà aussi cher ??!). Et quand les joueurs râlent puis trouvent des alternatives, on les sanctionne en baissant les récompenses !Les récompenses parlons-en, chaque jour on gagne un \"ticket de loterie\". Ne comptez pas trop sur votre bonne étoile, les dés sont pipés. regardez-bien le plus petit lot que vous pourrez avoir avec ledit ticket: c'est celui que vous aurez 95% du temps. Cette statistique n'est pas une extrapolation. Graphiquement nous sommes loin, très loin de ce que peut fournir la console.\n",
      "Le côté RPG n'a rien à voir avec les anciens jeux, ici nous avons des missions qui nous disent quelle course faire, quelle voiture gagner, et bien sûr impossible d'y couper : les courses se débloquent au fur et à mesure des missions Tiens les voitures, justement, j'y viens. On a un système de \"points de collection\" dès qu'on en débloque une. Ce système ne débloque quasiment rien. C'est juste la belle trouvaille qu'a eu PD pour nous empêcher de revendre les véhicules.\n",
      "Eh oui, il ne faudrait pas que les joueurs se fassent trop d'argent en revendant les deux chevaux pourries et autres véhicules inutiles.Le système de préparation de voiture est plutôt bien fait, quel dommage que les pièces coûtent si cher à acheter en comparaison de ce qu'on gagne en course...Parlons un peu du gameplay à présent.\n",
      "On démarre toujours avec 30 secondes de retard, en bout de file, et on doit remonter des IA qui jouent comme si on était pas là. \"Oui mais il y a une mise à jour qui arrive\" -> J'ai payé mon jeu, je le veux complet, et vu comment on se fout de notre gueule en permanence ce n'est pas comme si je pouvais passer outre cet énorme problème.\n",
      "Ce n'est même pas de la course, soit on a un véhicule assez puissant (ou un minimum préparé si vous avez de l'argent mais je vous garantie que l'argent étant difficile à avoir vous allez très peu en faire) et on remonte tout le peloton sans problème, soit on a une voiture trop peu puissante et vous aurez beau être le meilleur pilote du monde, jamais vous n'arriverez à gagner votre course.Il y a également des aides pour les mauvais pilotes, des aides à n'en plus finir à tel point que les premières minutes de jeu j'avais l'impression de ne pas jouer moi-même. On nous dit ou aller, quand freiner, et si on ne le fait pas le jeu le fait à notre place  (Entres autres), j'ai évidemment tout désactivé et on roule bien mieux d'ailleurs.Les permis ne présentent aucune difficulté à moins de viser l'or sur certaines épreuves, ce qui n'a en soit aucun intérêt si ce n'est la joie d'avoir fait les permis en or. Ceci dit même en or on est pas sur la même difficulté que dans les anciens opus (comme mon pseudo).Tiens, au fait, j'espère que vous avez une connexion internet en permanence, sinon vous ne pourrez tout simplement pas jouer au jeu, pourtant largement solo.Récapitulons :\n",
      "- RPG inexistant, trop directif\n",
      "- Voitures et préparations hors de prix pour ce qu'on gagne, d'ailleurs je ne vais même pas zyeuter du côté de l'endroit où on achète les voitures, je sais que c'est trop cher pour moi.\n",
      "- Tickets de lotterie pipés et gains de courses misérables\n",
      "- Impossibilité de revendre des voitures\n",
      "- Graphiquement pas au top\n",
      "- Gameplay sans aide très correct\n",
      "- Peu de difficulté en général dans le jeu\n",
      "- IA aux fraises\n",
      "- Courses toujours de type \"remonter le peloton\"\n",
      "- Connexion permanente requise\n",
      "- Micro-transactions dans un jeu payé plein pot et expressément réfléchi pour être frustrant, qui plus est à un tarif monstrueux (750.000 crédits = 10€, on nous sort des voitures temporaires pour forcer les gens à se dépêcher de les acheter, des voitures à 18M de crédits parfois : 240€ la voiture virtuelle, ça vous tente ?)\n",
      "- PD qui punit les joueurs qui tentent de brasser un peu d'argent en patchant les gains de course, c'est un manque de respect pur et simple. A un tel point que la boîte mérite de couler, ni plus ni moins.Petit bonus ici :   \"Avec le retour du légendaire mode de simulation GT, vous pouvez acheter, préparer, concourir et vendre vos voitures dans la campagne solo tout en débloquant de nouveaux véhicules et défis.\"- Description mensongère en prime. From GranTurismoIV\n"
     ]
    }
   ],
   "source": [
    "pred = predict_review_bombing(dataframe=review_bombing_neg, sentiment='negative')\n",
    "print(\"Comment:\", pred[0], \"From\", pred[1])"
   ]
  }
 ],
 "metadata": {
  "kernelspec": {
   "display_name": "Python 3 (ipykernel)",
   "language": "python",
   "name": "python3"
  },
  "language_info": {
   "codemirror_mode": {
    "name": "ipython",
    "version": 3
   },
   "file_extension": ".py",
   "mimetype": "text/x-python",
   "name": "python",
   "nbconvert_exporter": "python",
   "pygments_lexer": "ipython3",
   "version": "3.9.13"
  }
 },
 "nbformat": 4,
 "nbformat_minor": 5
}
