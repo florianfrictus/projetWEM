{
 "cells": [
  {
   "cell_type": "markdown",
   "id": "e4b6d35f",
   "metadata": {},
   "source": [
    "## WEM project: JVC Review Bombing Detection"
   ]
  },
  {
   "cell_type": "markdown",
   "id": "abbfca79",
   "metadata": {},
   "source": [
    "#### Project's members:  Campos Carvalho Cédric, Feuillade Florian, Ramosaj Nicolas"
   ]
  },
  {
   "cell_type": "markdown",
   "id": "3c348c5a",
   "metadata": {},
   "source": [
    "#### Import Libraires"
   ]
  },
  {
   "cell_type": "code",
   "execution_count": 1,
   "id": "25805666",
   "metadata": {},
   "outputs": [],
   "source": [
    "import pandas as pd\n",
    "import numpy as np\n",
    "from review_bombing import *\n",
    "from tools.read import get_data\n",
    "\n",
    "%load_ext autoreload\n",
    "%autoreload 2"
   ]
  },
  {
   "cell_type": "markdown",
   "id": "d2a16a54",
   "metadata": {},
   "source": [
    "#### Load Dataset"
   ]
  },
  {
   "cell_type": "code",
   "execution_count": 2,
   "id": "1b99e93f",
   "metadata": {
    "scrolled": true
   },
   "outputs": [
    {
     "data": {
      "text/html": [
       "<div>\n",
       "<style scoped>\n",
       "    .dataframe tbody tr th:only-of-type {\n",
       "        vertical-align: middle;\n",
       "    }\n",
       "\n",
       "    .dataframe tbody tr th {\n",
       "        vertical-align: top;\n",
       "    }\n",
       "\n",
       "    .dataframe thead th {\n",
       "        text-align: right;\n",
       "    }\n",
       "</style>\n",
       "<table border=\"1\" class=\"dataframe\">\n",
       "  <thead>\n",
       "    <tr style=\"text-align: right;\">\n",
       "      <th></th>\n",
       "      <th>game</th>\n",
       "      <th>platform</th>\n",
       "      <th>comment</th>\n",
       "      <th>username</th>\n",
       "      <th>grade</th>\n",
       "    </tr>\n",
       "  </thead>\n",
       "  <tbody>\n",
       "    <tr>\n",
       "      <th>0</th>\n",
       "      <td>Elden Ring</td>\n",
       "      <td>PlayStation 5</td>\n",
       "      <td>Comme Socrate disait:\"les personnes qui font s...</td>\n",
       "      <td>Platon_Socrate</td>\n",
       "      <td>20</td>\n",
       "    </tr>\n",
       "    <tr>\n",
       "      <th>1</th>\n",
       "      <td>Elden Ring</td>\n",
       "      <td>PlayStation 5</td>\n",
       "      <td>La quintessence de la formule des Souls.Miyaza...</td>\n",
       "      <td>Chichariito</td>\n",
       "      <td>19</td>\n",
       "    </tr>\n",
       "    <tr>\n",
       "      <th>2</th>\n",
       "      <td>Elden Ring</td>\n",
       "      <td>PlayStation 5</td>\n",
       "      <td>Le jeu est excellent et tourne bien sur PS5 en...</td>\n",
       "      <td>TheRealBigBoss</td>\n",
       "      <td>20</td>\n",
       "    </tr>\n",
       "    <tr>\n",
       "      <th>3</th>\n",
       "      <td>Elden Ring</td>\n",
       "      <td>PlayStation 5</td>\n",
       "      <td>Je suis là pour corriger ma note, j'ai retiré ...</td>\n",
       "      <td>keanu77fr</td>\n",
       "      <td>18</td>\n",
       "    </tr>\n",
       "    <tr>\n",
       "      <th>4</th>\n",
       "      <td>Elden Ring</td>\n",
       "      <td>PlayStation 5</td>\n",
       "      <td>Tout à fait novice dans les jeux Fromsoftware ...</td>\n",
       "      <td>enguerrand_92</td>\n",
       "      <td>19</td>\n",
       "    </tr>\n",
       "  </tbody>\n",
       "</table>\n",
       "</div>"
      ],
      "text/plain": [
       "         game       platform  \\\n",
       "0  Elden Ring  PlayStation 5   \n",
       "1  Elden Ring  PlayStation 5   \n",
       "2  Elden Ring  PlayStation 5   \n",
       "3  Elden Ring  PlayStation 5   \n",
       "4  Elden Ring  PlayStation 5   \n",
       "\n",
       "                                             comment        username  grade  \n",
       "0  Comme Socrate disait:\"les personnes qui font s...  Platon_Socrate     20  \n",
       "1  La quintessence de la formule des Souls.Miyaza...     Chichariito     19  \n",
       "2  Le jeu est excellent et tourne bien sur PS5 en...  TheRealBigBoss     20  \n",
       "3  Je suis là pour corriger ma note, j'ai retiré ...       keanu77fr     18  \n",
       "4  Tout à fait novice dans les jeux Fromsoftware ...   enguerrand_92     19  "
      ]
     },
     "execution_count": 2,
     "metadata": {},
     "output_type": "execute_result"
    }
   ],
   "source": [
    "dataset = get_data('data/dataset500.csv')\n",
    "data = [{'game':dataset['name'][i], 'platform':dataset['platform'][i], \n",
    "        'grade':comment['grade'][0],'comment':comment['comment'][0],'username':comment['username'][0]}\n",
    "        for i, comments in enumerate(dataset['comments']) for comment in comments]\n",
    "df = pd.DataFrame(data, columns=['game', 'platform', 'comment', 'username', 'grade'])\n",
    "df.head()\n",
    "#print(len(df))"
   ]
  },
  {
   "cell_type": "markdown",
   "id": "102e64e2",
   "metadata": {},
   "source": [
    "#### Data normalization"
   ]
  },
  {
   "cell_type": "code",
   "execution_count": 3,
   "id": "18a9f8bf",
   "metadata": {
    "scrolled": true
   },
   "outputs": [],
   "source": [
    "df['comment_normalized'] = [normalize_lemm_stem(comment) for comment in df['comment']]"
   ]
  },
  {
   "cell_type": "markdown",
   "id": "b7bdf951",
   "metadata": {},
   "source": [
    "#### Statistical Analysis"
   ]
  },
  {
   "cell_type": "code",
   "execution_count": 4,
   "id": "f7087f3b",
   "metadata": {},
   "outputs": [
    {
     "name": "stdout",
     "output_type": "stream",
     "text": [
      "Number of comments with grade 19 or 20: 2705\n",
      "Number of comments with grade 0 or 1: 1168\n"
     ]
    }
   ],
   "source": [
    "df_grade_pos = df[df['grade'] > 18]\n",
    "print(\"Number of comments with grade 19 or 20:\", len(df_grade_pos))\n",
    "df_grade_neg = df[df['grade'] < 2]\n",
    "print(\"Number of comments with grade 0 or 1:\", len(df_grade_neg))"
   ]
  },
  {
   "cell_type": "code",
   "execution_count": 5,
   "id": "032ceebd",
   "metadata": {},
   "outputs": [
    {
     "name": "stdout",
     "output_type": "stream",
     "text": [
      "Number of user with a positive behaviour: 246\n",
      "Number of user with a negative behaviour: 249\n"
     ]
    }
   ],
   "source": [
    "names_pos = extreme_behaviour(dataframe=df, sentiment='positive')\n",
    "names_neg = extreme_behaviour(dataframe=df, sentiment='negative')\n",
    "print(\"Number of user with a positive behaviour:\", len(names_pos))\n",
    "print(\"Number of user with a negative behaviour:\", len(names_neg))"
   ]
  },
  {
   "cell_type": "markdown",
   "id": "ea2fa434",
   "metadata": {},
   "source": [
    "#### Prepare Review Bombing Words and Extract Malicious Comments"
   ]
  },
  {
   "cell_type": "code",
   "execution_count": 6,
   "id": "7112d4bf",
   "metadata": {},
   "outputs": [
    {
     "name": "stdout",
     "output_type": "stream",
     "text": [
      "['0', '0/20', '20', '20/20', 'augmente', 'augmenté', 'augmenter', 'augmentes', 'augmentés', 'baisse', 'baissé', 'baisser', 'baisses', 'baissés', 'bombing', 'boycott', 'boycotts', 'bug', 'bugs', 'colere', 'coleres', 'colère', 'colères', 'contre', 'contré', 'contrer', 'contres', 'contrés', 'descendre', 'descendu', 'descendus', 'ensemble', 'ensembles', 'equilibre', 'equilibrer', 'equilibres', 'equilibré', 'equilibrés', 'équilibre', 'équilibrer', 'équilibres', 'équilibré', 'équilibrés', 'evaluation', 'évaluation', 'evalue', 'evalué', 'évalue', 'évalué', 'evaluer', 'évaluer', 'evalues', 'evalués', 'évalues', 'évalués', 'gars', 'honte', 'honteuse', 'honteuses', 'honteux', 'jeuxvideo', 'jeuxvideocom', 'jvc', 'koi', 'mauvais', 'mauvaise', 'mauvaises', 'mec', 'mecs', 'negatif', 'negatifs', 'negative', 'negatives', 'négatif', 'négatifs', 'négative', 'négatives', 'note', 'noter', 'notes', 'patch', 'patche', 'patcher', 'patché', 'positif', 'positifs', 'positive', 'positives', 'quoi', 'rage', 'ragé', 'ragee', 'ragée', 'rager', 'rages', 'ragés', 'sortie', 'sortir', 'troll', 'trolls', 'uni', 'unis', 'zero', 'zeros', 'zéro', 'zéros']\n"
     ]
    }
   ],
   "source": [
    "print(get_bombing_words())"
   ]
  },
  {
   "cell_type": "code",
   "execution_count": 7,
   "id": "5b5866cc",
   "metadata": {},
   "outputs": [
    {
     "name": "stdout",
     "output_type": "stream",
     "text": [
      "1251 712\n"
     ]
    }
   ],
   "source": [
    "review_bombing_pos = naive_bombing(dataframe=df, sentiment='positive')\n",
    "review_bombing_neg = naive_bombing(dataframe=df, sentiment='negative')\n",
    "print(len(review_bombing_pos), len(review_bombing_neg))"
   ]
  },
  {
   "cell_type": "markdown",
   "id": "c1053444",
   "metadata": {},
   "source": [
    "#### Sentiment compound analysis with Vader"
   ]
  },
  {
   "cell_type": "code",
   "execution_count": 8,
   "id": "3fff106e",
   "metadata": {},
   "outputs": [],
   "source": [
    "# review_bombing_pos = extract_game_sentiment(dataframe=review_bombing_pos, game='Elden Ring')\n",
    "review_bombing_pos = extract_game_sentiment(dataframe=review_bombing_pos, game=None)\n",
    "review_bombing_neg = extract_game_sentiment(dataframe=review_bombing_neg, game=None)"
   ]
  },
  {
   "cell_type": "markdown",
   "id": "7ac1b2bd",
   "metadata": {},
   "source": [
    "#### Extract only username with extreme behaviour"
   ]
  },
  {
   "cell_type": "code",
   "execution_count": 9,
   "id": "307285c8",
   "metadata": {},
   "outputs": [],
   "source": [
    "review_pos_high = review_bombing_pos[review_bombing_pos['username'].isin(names_pos)]\n",
    "review_neg_high = review_bombing_neg[review_bombing_neg['username'].isin(names_neg)]"
   ]
  },
  {
   "cell_type": "markdown",
   "id": "9aa3b53b",
   "metadata": {},
   "source": [
    "#### Predict review bombing comments with high confidence"
   ]
  },
  {
   "cell_type": "code",
   "execution_count": 10,
   "id": "9b72ab50",
   "metadata": {},
   "outputs": [],
   "source": [
    "review_pos_high = predict_review_bombing_table(review_pos_high, sentiment='positive', confidence='High')\n",
    "review_neg_high = predict_review_bombing_table(review_neg_high, sentiment='negative', confidence='High')"
   ]
  },
  {
   "cell_type": "code",
   "execution_count": 11,
   "id": "94b62fd5",
   "metadata": {},
   "outputs": [],
   "source": [
    "review_pos_high = review_pos_high[['game','comment','username']].set_index('game')\n",
    "review_pos_high['confidence'] = 'HIGH'\n",
    "review_neg_high = review_neg_high[['game','comment','username']].set_index('game')\n",
    "review_neg_high['confidence'] = 'HIGH'"
   ]
  },
  {
   "cell_type": "markdown",
   "id": "a4182124",
   "metadata": {},
   "source": [
    "#### Predict review bombing comments with medium confidence"
   ]
  },
  {
   "cell_type": "code",
   "execution_count": 12,
   "id": "dee9cd2a",
   "metadata": {},
   "outputs": [],
   "source": [
    "review_pos_medium = predict_review_bombing_table(review_bombing_pos, sentiment='positive', confidence='Medium')\n",
    "review_neg_medium = predict_review_bombing_table(review_bombing_neg, sentiment='negative', confidence='Medium')"
   ]
  },
  {
   "cell_type": "code",
   "execution_count": 13,
   "id": "31237c18",
   "metadata": {},
   "outputs": [],
   "source": [
    "review_pos_medium = review_pos_medium[['game','comment','username']].set_index('game')\n",
    "review_pos_medium['confidence'] = 'MEDIUM'\n",
    "review_neg_medium = review_neg_medium[['game','comment','username']].set_index('game')\n",
    "review_neg_medium['confidence'] = 'MEDIUM'"
   ]
  },
  {
   "cell_type": "markdown",
   "id": "6500251f",
   "metadata": {},
   "source": [
    "#### Predict review bombing comments with low confidence"
   ]
  },
  {
   "cell_type": "code",
   "execution_count": 14,
   "id": "a6f454d0",
   "metadata": {},
   "outputs": [],
   "source": [
    "review_pos_low = predict_review_bombing_table(review_bombing_pos, sentiment=None, confidence='Low')\n",
    "review_neg_low = predict_review_bombing_table(review_bombing_neg, sentiment=None, confidence='Low')"
   ]
  },
  {
   "cell_type": "code",
   "execution_count": 15,
   "id": "7dfd86d9",
   "metadata": {},
   "outputs": [],
   "source": [
    "review_pos_low = review_pos_low[['game','comment','username']].set_index('game')\n",
    "review_pos_low['confidence'] = 'LOW'\n",
    "review_neg_low = review_neg_low[['game','comment','username']].set_index('game')\n",
    "review_neg_low['confidence'] = 'LOW'"
   ]
  },
  {
   "cell_type": "markdown",
   "id": "10801ffd",
   "metadata": {},
   "source": [
    "#### Save results as .csv for visualization"
   ]
  },
  {
   "cell_type": "code",
   "execution_count": 16,
   "id": "548f401d",
   "metadata": {},
   "outputs": [],
   "source": [
    "full_review_pos = pd.concat((review_pos_high, review_pos_medium, review_pos_low))\n",
    "full_review_neg = pd.concat((review_neg_high, review_neg_medium, review_neg_low))\n",
    "full_review_pos.to_csv('data/positive_bombing.csv', encoding='utf-8-sig')\n",
    "full_review_neg.to_csv('data/negative_bombing.csv', encoding='utf-8-sig')"
   ]
  },
  {
   "cell_type": "markdown",
   "id": "04959956",
   "metadata": {},
   "source": [
    "#### Example of positive sentiment analysis with Vader"
   ]
  },
  {
   "cell_type": "code",
   "execution_count": 17,
   "id": "bdbc32ff",
   "metadata": {},
   "outputs": [
    {
     "name": "stdout",
     "output_type": "stream",
     "text": [
      "The length of the negative bombing is: 27\n",
      "Comment: 13 sur 20 par la communauté, pourtant on à ici un jeux sérieux solide et qui respecte les passionnés de voitures.\n",
      "Ok gt7 n'est plus le port- étendard de la simulation de voitures par excellence, comme il l'était a une époque.\n",
      "C'est pas une révolution graphique ou même niveaux sensation.\n",
      "Mais honnêtement le jeux fait plus que le taff, un 16 ou 17 c'est pas volé mais voilla comme certains sous côte car le jeux n'est pas pensé comme eux l'on pensé ou par mauvaise foies simple ou se retrouve avec des exclus sony basher. Last of us, horizon, gt7 franchement c'est triste de chier sur un travail de qualité. Jusqu'à quand seigneur, jusqu'à quand. From Kounic89\n"
     ]
    },
    {
     "name": "stderr",
     "output_type": "stream",
     "text": [
      "C:\\Users\\Nicolas\\switchdrive\\MA_WEM\\projetWEM\\review_bombing.py:143: SettingWithCopyWarning: \n",
      "A value is trying to be set on a copy of a slice from a DataFrame.\n",
      "Try using .loc[row_indexer,col_indexer] = value instead\n",
      "\n",
      "See the caveats in the documentation: https://pandas.pydata.org/pandas-docs/stable/user_guide/indexing.html#returning-a-view-versus-a-copy\n",
      "  dataframe['compound_vader'] = [senti['compound'] for senti in senti_vader]\n"
     ]
    }
   ],
   "source": [
    "# review_bombing_pos = extract_game_sentiment(dataframe=review_bombing_pos, game='Elden Ring')\n",
    "review_bombing_pos = extract_game_sentiment(dataframe=review_bombing_pos, game='Gran Turismo 7')\n",
    "print(\"The length of the negative bombing is:\", len(review_bombing_pos))\n",
    "review_bombing_pos = review_bombing_pos[review_bombing_pos['username'].isin(names_pos)]\n",
    "pred = predict_review_bombing(dataframe=review_bombing_pos, sentiment='positive', confidence='High')\n",
    "print(\"Comment:\", pred[0], \"From\", pred[1])"
   ]
  },
  {
   "cell_type": "markdown",
   "id": "78a35285",
   "metadata": {},
   "source": [
    "#### Example of negative sentiment analysis with Vader"
   ]
  },
  {
   "cell_type": "code",
   "execution_count": 18,
   "id": "9ecd8bfc",
   "metadata": {},
   "outputs": [
    {
     "name": "stdout",
     "output_type": "stream",
     "text": [
      "The length of the negative bombing is: 33\n",
      "Comment: Bon sinon pourquoi GT7 est un ignominie sans nom?- Online obligatoire pour jouer SOLO alors que Sony s'etait spécifiquement moqué du online obligatoire chez Microsoft dans un tweet officiel datant d'il y a quelques années.- Publicité MENSONGERE (et là les amis on est carrément dans l'illégal)\n",
      "Description du jeu dans le store : \"vous pouvez vendre vos voitures\" alors que c'est officiellement impossible.\n",
      "D'ailleurs on va revenir sur ce point très vite.- Contenu maigre, surtout compte tenu du fait que GT7 a été conçu comme une tentative de \"retour au source\" de la saga contrairement à l'opus d'avant qui avait déçu à ce niveau.\n",
      "Dans ce cas là comment expliquer que débloquer les permis internationaux et S ne débloquent AUCUNE course ni compétition.\n",
      "Attention je parle pas de circuit ! Des circuits ont en a assez (même si ils comptent en rajouter) mais bien de nouvelles compétitions, avec des catégories et des spécificités !\n",
      "Pour résumer: AUCUNE course ni compétition au dessus du Gr3 ce qui est une honte total.\n",
      "Alors que le jeu te fait baver avec moult GR1, concept cars, vision GT, ou même des super formula , vous n'avez strictement aucune course dans lesquels les jouer pour avancer dans votre progression.\n",
      "A part les routières qui peuvent concourir dans certains circuit sans restriction de PP (traduction : en un tour vous etes premier et vous mettez un tour au dernier parce qu'en face ya que des p'tites caisses) il ne vous reste que le mode arcade pour tester vos hyper cars.\n",
      "Ridicule.\n",
      "Exit les courses d'endurance, les championnat d'hyper cars, ou les trucs bonus hyper cool comme ne serait-ce qu'un championnat de super formula ou une vrai compét de rallye comme on en trouvait dans les anciens GT. RIEN. NADA.\n",
      "Tu fais le mode café comme un zombie, c'est sympa mais t'es limité dans un carcan très précis en plus d'etre ultra guidé.\n",
      "Et quand t'as fini le café tu te dis \"cool ! je suis libre maintenant ! c'est le vrai GT qui s'offre à moi ! \" bah non en fait.-Démarche et procédés ultra vicieux uniquement dans le but de générer des MT :\n",
      "Comme je l'avais dis sur un autre post ici :\n",
      "c'est même pas cette maj anormalement longue ni le fait qu'il faut obligatoirement que le online soit actif pour jouer au contenu solo qui est le plus inexcusable.\n",
      "C'est surtout cette incitation aux MT hors de prix qui est une catastrophe.\n",
      "GT7 c'est:- Impossibilité de vendre ses voitures (contrairement aux anciens opus)\n",
      "- Système d'invitation dans un salon (que tu peux chopper avec un ticket de roulette) pour te montrer quasi systématiquement des voitures rares hors de prix que tu ne peux acheter qu'en temps limiter pour bien t'inciter à dépenser ta thunes en MT\n",
      "- Nerfs de tout les gains de crédits en course\n",
      "- pas de gros gros championnat / course style \"endurance\" pour gagner gros d'un coup\n",
      "- Prix assez exorbitant de certaines caisses\n",
      "- même les améliorations sont assez onéreuses (100k le nitro)\n",
      "- MT affreusement hors de prixEt on peut encore agrandir la liste.\n",
      "Tout est calculé au poil prés pour inciter à mort aux MT qui sont affreusement disproportionnée d'ailleurs (comptez 150 a 200 euros pour s'acheter la voiture la plus chère du jeu).On rajoute quoi encore dans ce constat de la honte?-Le fait que P-Digital ait attendu deux semaines après la sortie du jeu pour mettre en place cette MAJ , après que les critiques et tests ont rendus leur verdict, que les joueurs ont commencés à donner leurs avis etc.\n",
      "-Le fait que le boss de P-Digital (j'ai plus son nom) JUSTIFIE ces maj en disant \"mé cé pour fér com dan la vré vie une voiture de prestige c chair c normal\" tout en disant juste avant \"nous voulons que les joueurs puissent acheter des voitures normalement et que le jeu reste accessible\" pardon??? GT8 on devra aller acheter la voiture chez le concessionnaire qui nous filera un QR code pour télécharger la dites voiture dans le jeu et ce sera la seul moyen de l'avoir  \"mé cé réaliste é novateur\" bande de tarés a défendre l'indéfendableQuoi encore?\n",
      "Peut être le fait qu'avec tout ça GT7 n'est nul part dans la concurence.\n",
      "En terme de réalisme et de \"driving simulator\" il se fait éclater par un Iracing ou un AC.\n",
      "En terme d'arcade et \"d'esbrouffe visuel\" il se fait éclater par le dernier F-Horizon.\n",
      "Que justement il y avait un créneau de ouf a prendre pour redevenir le boss de la \"simcade\" comme on dit.\n",
      "Forza tardant a sortir un nouveau motorsport et focus sur Horizon très arcade et fun, il y avait un BOULEVARD pour etre l'alternative populaire \"simcade\" en vogue.\n",
      "Mais là, la sortie de route est totale. From Eddy-Bernard\n"
     ]
    }
   ],
   "source": [
    "# review_bombing_neg = extract_game_sentiment(dataframe=review_bombing_neg, game='Elden Ring')\n",
    "review_bombing_neg = extract_game_sentiment(dataframe=review_bombing_neg, game='Gran Turismo 7')\n",
    "print(\"The length of the negative bombing is:\", len(review_bombing_neg))\n",
    "review_bombing_neg = review_bombing_neg[review_bombing_neg['username'].isin(names_neg)]\n",
    "pred = predict_review_bombing(dataframe=review_bombing_neg, sentiment='negative', confidence='High')\n",
    "print(\"Comment:\", pred[0], \"From\", pred[1])"
   ]
  },
  {
   "cell_type": "markdown",
   "id": "9f5e27dc",
   "metadata": {},
   "source": [
    "#### Example of complete process with a single command line"
   ]
  },
  {
   "cell_type": "code",
   "execution_count": 19,
   "id": "fffe31af",
   "metadata": {},
   "outputs": [
    {
     "name": "stdout",
     "output_type": "stream",
     "text": [
      "Comment: Factuellement mauvais.\n",
      "Le studio nous à habitué a beaucoup mieux que cet opus qui est franchement risible et indigne des souls.\n",
      "Le jeu est mal optis et les bugs sont insoutenable (ma config n'es pas le problème j'ai une 3070 et un i9 suivi de 32Go de Ram  ) From dentisteforum\n"
     ]
    },
    {
     "name": "stderr",
     "output_type": "stream",
     "text": [
      "C:\\Users\\Nicolas\\switchdrive\\MA_WEM\\projetWEM\\review_bombing.py:143: SettingWithCopyWarning: \n",
      "A value is trying to be set on a copy of a slice from a DataFrame.\n",
      "Try using .loc[row_indexer,col_indexer] = value instead\n",
      "\n",
      "See the caveats in the documentation: https://pandas.pydata.org/pandas-docs/stable/user_guide/indexing.html#returning-a-view-versus-a-copy\n",
      "  dataframe['compound_vader'] = [senti['compound'] for senti in senti_vader]\n"
     ]
    }
   ],
   "source": [
    "review, pred = review_bombing_prediction_process(dataframe=df, confidence='Low', sentiment='negative', game='Elden Ring')\n",
    "print(\"Comment:\", pred[0], \"From\", pred[1])"
   ]
  },
  {
   "cell_type": "code",
   "execution_count": 20,
   "id": "aac964f3",
   "metadata": {},
   "outputs": [
    {
     "name": "stdout",
     "output_type": "stream",
     "text": [
      "Comment: 13 sur 20 par la communauté, pourtant on à ici un jeux sérieux solide et qui respecte les passionnés de voitures.\n",
      "Ok gt7 n'est plus le port- étendard de la simulation de voitures par excellence, comme il l'était a une époque.\n",
      "C'est pas une révolution graphique ou même niveaux sensation.\n",
      "Mais honnêtement le jeux fait plus que le taff, un 16 ou 17 c'est pas volé mais voilla comme certains sous côte car le jeux n'est pas pensé comme eux l'on pensé ou par mauvaise foies simple ou se retrouve avec des exclus sony basher. Last of us, horizon, gt7 franchement c'est triste de chier sur un travail de qualité. Jusqu'à quand seigneur, jusqu'à quand. From Kounic89\n"
     ]
    },
    {
     "name": "stderr",
     "output_type": "stream",
     "text": [
      "C:\\Users\\Nicolas\\switchdrive\\MA_WEM\\projetWEM\\review_bombing.py:143: SettingWithCopyWarning: \n",
      "A value is trying to be set on a copy of a slice from a DataFrame.\n",
      "Try using .loc[row_indexer,col_indexer] = value instead\n",
      "\n",
      "See the caveats in the documentation: https://pandas.pydata.org/pandas-docs/stable/user_guide/indexing.html#returning-a-view-versus-a-copy\n",
      "  dataframe['compound_vader'] = [senti['compound'] for senti in senti_vader]\n"
     ]
    }
   ],
   "source": [
    "review, pred = review_bombing_prediction_process(dataframe=df, confidence='High', sentiment='positive', game='Gran Turismo 7')\n",
    "print(\"Comment:\", pred[0], \"From\", pred[1])"
   ]
  },
  {
   "cell_type": "code",
   "execution_count": null,
   "id": "0e302c3e",
   "metadata": {},
   "outputs": [],
   "source": []
  }
 ],
 "metadata": {
  "interpreter": {
   "hash": "9507db8dc3e0fafa4a3acc25551a053f164aebafaf25c916b48ef5aae22be56b"
  },
  "kernelspec": {
   "display_name": "Python 3 (ipykernel)",
   "language": "python",
   "name": "python3"
  },
  "language_info": {
   "codemirror_mode": {
    "name": "ipython",
    "version": 3
   },
   "file_extension": ".py",
   "mimetype": "text/x-python",
   "name": "python",
   "nbconvert_exporter": "python",
   "pygments_lexer": "ipython3",
   "version": "3.9.13"
  }
 },
 "nbformat": 4,
 "nbformat_minor": 5
}
